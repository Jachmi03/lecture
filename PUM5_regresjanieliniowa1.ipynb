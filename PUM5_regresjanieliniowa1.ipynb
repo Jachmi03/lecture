{
  "nbformat": 4,
  "nbformat_minor": 0,
  "metadata": {
    "colab": {
      "provenance": [],
      "include_colab_link": true
    },
    "kernelspec": {
      "name": "python3",
      "display_name": "Python 3"
    },
    "language_info": {
      "name": "python"
    }
  },
  "cells": [
    {
      "cell_type": "markdown",
      "metadata": {
        "id": "view-in-github",
        "colab_type": "text"
      },
      "source": [
        "<a href=\"https://colab.research.google.com/github/Jachmi03/lecture/blob/regresja/PUM5_regresjanieliniowa1.ipynb\" target=\"_parent\"><img src=\"https://colab.research.google.com/assets/colab-badge.svg\" alt=\"Open In Colab\"/></a>"
      ]
    },
    {
      "cell_type": "code",
      "execution_count": 7,
      "metadata": {
        "id": "UUQvQtgOydRo"
      },
      "outputs": [],
      "source": [
        "import numpy as np\n",
        "import pandas as pd\n",
        "import matplotlib.pyplot as plt\n",
        "from sklearn.linear_model import LinearRegression, Ridge, Lasso, HuberRegressor, RANSACRegressor, TheilSenRegressor, SGDRegressor\n",
        "from sklearn.model_selection import train_test_split\n",
        "from sklearn.metrics import mean_squared_error, mean_absolute_error, r2_score, explained_variance_score\n",
        "from sklearn.preprocessing import StandardScaler, LabelEncoder\n",
        "from sklearn.metrics import PredictionErrorDisplay"
      ]
    },
    {
      "cell_type": "code",
      "source": [
        "# pip install kagglehub[pandas-datasets]\n",
        "import kagglehub\n",
        "from kagglehub import KaggleDatasetAdapter\n",
        "\n",
        "# Set the path to the file you'd like to load\n",
        "file_path = \"Salary Data.csv\"\n",
        "\n",
        "# Load the latest version\n",
        "df = kagglehub.load_dataset(\n",
        "  KaggleDatasetAdapter.PANDAS,\n",
        "  \"rkiattisak/salaly-prediction-for-beginer\",\n",
        "  file_path,\n",
        ")\n",
        "\n",
        "print(\"First 5 records:\", df.head())"
      ],
      "metadata": {
        "colab": {
          "base_uri": "https://localhost:8080/"
        },
        "id": "zQHuEE0I6v5A",
        "outputId": "db1a1674-8a29-47c0-d867-94552933b72d"
      },
      "execution_count": 2,
      "outputs": [
        {
          "output_type": "stream",
          "name": "stderr",
          "text": [
            "<ipython-input-2-9f69f8392d9a>:9: DeprecationWarning: load_dataset is deprecated and will be removed in future version.\n",
            "  df = kagglehub.load_dataset(\n"
          ]
        },
        {
          "output_type": "stream",
          "name": "stdout",
          "text": [
            "Downloading from https://www.kaggle.com/api/v1/datasets/download/rkiattisak/salaly-prediction-for-beginer?dataset_version_number=1&file_name=Salary Data.csv...\n"
          ]
        },
        {
          "output_type": "stream",
          "name": "stderr",
          "text": [
            "100%|██████████| 18.9k/18.9k [00:00<00:00, 18.7MB/s]"
          ]
        },
        {
          "output_type": "stream",
          "name": "stdout",
          "text": [
            "First 5 records:     Age  Gender Education Level          Job Title  Years of Experience  \\\n",
            "0  32.0    Male      Bachelor's  Software Engineer                  5.0   \n",
            "1  28.0  Female        Master's       Data Analyst                  3.0   \n",
            "2  45.0    Male             PhD     Senior Manager                 15.0   \n",
            "3  36.0  Female      Bachelor's    Sales Associate                  7.0   \n",
            "4  52.0    Male        Master's           Director                 20.0   \n",
            "\n",
            "     Salary  \n",
            "0   90000.0  \n",
            "1   65000.0  \n",
            "2  150000.0  \n",
            "3   60000.0  \n",
            "4  200000.0  \n"
          ]
        },
        {
          "output_type": "stream",
          "name": "stderr",
          "text": [
            "\n"
          ]
        }
      ]
    },
    {
      "cell_type": "code",
      "source": [
        "df.info()\n",
        "\n",
        "le = LabelEncoder()\n",
        "\n",
        "for column in ['Gender', 'Education Level', 'Job Title']:\n",
        "  if column in df.columns:\n",
        "    df[column] = le.fit_transform(df[column])\n",
        "\n",
        "print(df.head())\n"
      ],
      "metadata": {
        "id": "XDVeN9lG7wox",
        "outputId": "c114fc07-15dc-4cf2-f2a2-1ff62bdfd1f5",
        "colab": {
          "base_uri": "https://localhost:8080/"
        }
      },
      "execution_count": 3,
      "outputs": [
        {
          "output_type": "stream",
          "name": "stdout",
          "text": [
            "<class 'pandas.core.frame.DataFrame'>\n",
            "RangeIndex: 375 entries, 0 to 374\n",
            "Data columns (total 6 columns):\n",
            " #   Column               Non-Null Count  Dtype  \n",
            "---  ------               --------------  -----  \n",
            " 0   Age                  373 non-null    float64\n",
            " 1   Gender               373 non-null    object \n",
            " 2   Education Level      373 non-null    object \n",
            " 3   Job Title            373 non-null    object \n",
            " 4   Years of Experience  373 non-null    float64\n",
            " 5   Salary               373 non-null    float64\n",
            "dtypes: float64(3), object(3)\n",
            "memory usage: 17.7+ KB\n",
            "    Age  Gender  Education Level  Job Title  Years of Experience    Salary\n",
            "0  32.0       1                0        159                  5.0   90000.0\n",
            "1  28.0       0                1         17                  3.0   65000.0\n",
            "2  45.0       1                2        130                 15.0  150000.0\n",
            "3  36.0       0                0        101                  7.0   60000.0\n",
            "4  52.0       1                1         22                 20.0  200000.0\n"
          ]
        }
      ]
    },
    {
      "cell_type": "markdown",
      "source": [
        "Zbuduj model benchmarkowy - zwykłą regresję liniową"
      ],
      "metadata": {
        "id": "hMy6agmK8VQ2"
      }
    },
    {
      "cell_type": "code",
      "source": [
        "if 'Salary' in df.columns:\n",
        "  df['Salary'].fillna(df['Salary'].median(), inplace=True)"
      ],
      "metadata": {
        "id": "OWVYHB7DYAFy"
      },
      "execution_count": 12,
      "outputs": []
    },
    {
      "cell_type": "code",
      "source": [
        "if 'Age' in df.columns:\n",
        "    df['Age'].fillna(df['Age'].median(), inplace=True)"
      ],
      "metadata": {
        "id": "UQF0gXKAYADA",
        "outputId": "405dc5e1-f7aa-4af8-f1cc-4ddd4316a0db",
        "colab": {
          "base_uri": "https://localhost:8080/"
        }
      },
      "execution_count": 13,
      "outputs": [
        {
          "output_type": "stream",
          "name": "stderr",
          "text": [
            "<ipython-input-13-33badb1f1ff3>:2: FutureWarning: A value is trying to be set on a copy of a DataFrame or Series through chained assignment using an inplace method.\n",
            "The behavior will change in pandas 3.0. This inplace method will never work because the intermediate object on which we are setting values always behaves as a copy.\n",
            "\n",
            "For example, when doing 'df[col].method(value, inplace=True)', try using 'df.method({col: value}, inplace=True)' or df[col] = df[col].method(value) instead, to perform the operation inplace on the original object.\n",
            "\n",
            "\n",
            "  df['Age'].fillna(df['Age'].median(), inplace=True)\n"
          ]
        }
      ]
    },
    {
      "cell_type": "code",
      "source": [
        "if 'Years of Experience' in df.columns:\n",
        "  df['Years of Experience'].fillna(df['Years of Experience'].median(), inplace=True)"
      ],
      "metadata": {
        "id": "8mBJRIV4X_7o",
        "outputId": "228665b3-3ea0-4eba-e529-656d0002f92b",
        "colab": {
          "base_uri": "https://localhost:8080/"
        }
      },
      "execution_count": 14,
      "outputs": [
        {
          "output_type": "stream",
          "name": "stderr",
          "text": [
            "<ipython-input-14-069a0a8a3d1c>:2: FutureWarning: A value is trying to be set on a copy of a DataFrame or Series through chained assignment using an inplace method.\n",
            "The behavior will change in pandas 3.0. This inplace method will never work because the intermediate object on which we are setting values always behaves as a copy.\n",
            "\n",
            "For example, when doing 'df[col].method(value, inplace=True)', try using 'df.method({col: value}, inplace=True)' or df[col] = df[col].method(value) instead, to perform the operation inplace on the original object.\n",
            "\n",
            "\n",
            "  df['Years of Experience'].fillna(df['Years of Experience'].median(), inplace=True)\n"
          ]
        }
      ]
    },
    {
      "cell_type": "code",
      "source": [
        "\n",
        "X = df.drop('Salary', axis=1)\n",
        "y = df['Salary']\n",
        "X_train, X_test, y_train, y_test = train_test_split(X, y, test_size=0.2, random_state=42)\n",
        "\n",
        "# Inicjalizacja i trenowanie modelu regresji liniowej\n",
        "model = LinearRegression()\n",
        "model.fit(X_train, y_train)\n",
        "\n",
        "# Predykcja na zbiorze testowym\n",
        "y_pred = model.predict(X_test)\n",
        "\n",
        "# Ocena modelu\n",
        "mse = mean_squared_error(y_test, y_pred)\n",
        "mae = mean_absolute_error(y_test, y_pred)\n",
        "r2 = r2_score(y_test, y_pred)\n",
        "\n",
        "print(f\"Mean Squared Error: {mse}\")\n",
        "print(f\"Mean Absolute Error: {mae}\")\n",
        "print(f\"R-squared: {r2}\")\n"
      ],
      "metadata": {
        "id": "pSvQcBMU8ZnM",
        "outputId": "d1730085-3a2e-4201-9aaf-0b6ddd9856c6",
        "colab": {
          "base_uri": "https://localhost:8080/"
        }
      },
      "execution_count": 15,
      "outputs": [
        {
          "output_type": "stream",
          "name": "stdout",
          "text": [
            "Mean Squared Error: 267810720.62708247\n",
            "Mean Absolute Error: 11026.42501874865\n",
            "R-squared: 0.8894732564765409\n"
          ]
        }
      ]
    },
    {
      "cell_type": "markdown",
      "source": [
        "Sprawdź czy w danych występuje współliniowość współczynnikiem VIF"
      ],
      "metadata": {
        "id": "ctB2roDT78Ll"
      }
    },
    {
      "cell_type": "code",
      "source": [
        "from statsmodels.stats.outliers_influence import variance_inflation_factor\n",
        "# calculating VIF for each feature\n",
        "vif_data = pd.DataFrame()\n",
        "vif_data[\"feature\"] = X.columns\n",
        "vif_data[\"VIF\"] = [variance_inflation_factor(X.values, i) for i in range(len(X.columns))]\n",
        "print(vif_data)\n"
      ],
      "metadata": {
        "id": "97MLPmJU76aE",
        "outputId": "52929842-e552-4141-f4d4-8233c253cf2e",
        "colab": {
          "base_uri": "https://localhost:8080/"
        }
      },
      "execution_count": 16,
      "outputs": [
        {
          "output_type": "stream",
          "name": "stdout",
          "text": [
            "               feature        VIF\n",
            "0                  Age  15.134250\n",
            "1               Gender   2.046995\n",
            "2      Education Level   2.320120\n",
            "3            Job Title   4.890706\n",
            "4  Years of Experience   9.400290\n"
          ]
        }
      ]
    },
    {
      "cell_type": "markdown",
      "source": [
        "Spróbuj poprawić wynik używając regresji LASSO"
      ],
      "metadata": {
        "id": "HjfQJLv176Ka"
      }
    },
    {
      "cell_type": "code",
      "source": [
        "\n",
        "lasso_model = Lasso(alpha=0.1)  # alpha to parametr regularyzacji, można go dobrać\n",
        "lasso_model.fit(X_train, y_train)\n",
        "y_pred_lasso = lasso_model.predict(X_test)\n",
        "\n",
        "# Ocena modelu LASSO\n",
        "mse_lasso = mean_squared_error(y_test, y_pred_lasso)\n",
        "mae_lasso = mean_absolute_error(y_test, y_pred_lasso)\n",
        "r2_lasso = r2_score(y_test, y_pred_lasso)\n",
        "print(f\"\\nLASSO Model:\")\n",
        "print(f\"Mean Squared Error: {mse_lasso}\")\n",
        "print(f\"Mean Absolute Error: {mae_lasso}\")\n",
        "print(f\"R-squared: {r2_lasso}\")\n",
        "\n",
        "\n"
      ],
      "metadata": {
        "id": "iWK6MT4U8f-O",
        "outputId": "85f26db4-a0e5-4ea8-b518-c5d0b93ed161",
        "colab": {
          "base_uri": "https://localhost:8080/"
        }
      },
      "execution_count": 22,
      "outputs": [
        {
          "output_type": "stream",
          "name": "stdout",
          "text": [
            "\n",
            "LASSO Model:\n",
            "Mean Squared Error: 270847089.1835715\n",
            "Mean Absolute Error: 10968.276794704683\n",
            "R-squared: 0.888220132897694\n"
          ]
        }
      ]
    },
    {
      "cell_type": "markdown",
      "source": [
        "Zbuduj dodatkową zmienną, kwadrat lat doświadczenia, zbuduj ponownie regresję\n"
      ],
      "metadata": {
        "id": "gJTWbC4w8gUY"
      }
    },
    {
      "cell_type": "code",
      "source": [
        "\n",
        "df['Years of Experience Squared'] = df['Years of Experience'] ** 2\n",
        "\n",
        "# Podziel dane na zbiór treningowy i testowy\n",
        "X = df.drop('Salary', axis=1)\n",
        "y = df['Salary']\n",
        "X_train, X_test, y_train, y_test = train_test_split(X, y, test_size=0.2, random_state=42)\n",
        "\n",
        "# Zbuduj model regresji liniowej z nową zmienną\n",
        "model_with_sq = LinearRegression()\n",
        "model_with_sq.fit(X_train, y_train)\n",
        "\n",
        "# Predykcja na zbiorze testowym\n",
        "y_pred_with_sq = model_with_sq.predict(X_test)\n",
        "\n",
        "# Ocena modelu z nową zmienną\n",
        "mse_with_sq = mean_squared_error(y_test, y_pred_with_sq)\n",
        "mae_with_sq = mean_absolute_error(y_test, y_pred_with_sq)\n",
        "r2_with_sq = r2_score(y_test, y_pred_with_sq)\n",
        "\n",
        "print(f\"\\nModel with Years of Experience Squared:\")\n",
        "print(f\"Mean Squared Error: {mse_with_sq}\")\n",
        "print(f\"Mean Absolute Error: {mae_with_sq}\")\n",
        "print(f\"R-squared: {r2_with_sq}\")\n"
      ],
      "metadata": {
        "id": "BVMatk_v9oy0",
        "outputId": "da9603ee-501d-4dac-a475-9b595c22d686",
        "colab": {
          "base_uri": "https://localhost:8080/"
        }
      },
      "execution_count": 18,
      "outputs": [
        {
          "output_type": "stream",
          "name": "stdout",
          "text": [
            "\n",
            "Model with Years of Experience Squared:\n",
            "Mean Squared Error: 270851937.4899723\n",
            "Mean Absolute Error: 10968.303695557772\n",
            "R-squared: 0.8882181319788479\n"
          ]
        }
      ]
    },
    {
      "cell_type": "markdown",
      "source": [
        "narysyj wykres typu scatterplot, dla zmiennych lata doswiadczenia i płaca, czy regresja wyższego rzędu jest uzasadniona?"
      ],
      "metadata": {
        "id": "qtmA86qhNxmM"
      }
    },
    {
      "cell_type": "code",
      "source": [
        "plt.figure(figsize=(8, 6))\n",
        "plt.scatter(df['Years of Experience'], df['Salary'], alpha=0.5)\n",
        "plt.xlabel('Years of Experience')\n",
        "plt.ylabel('Salary')\n",
        "plt.title('Scatterplot: Years of Experience vs. Salary')\n",
        "plt.show()\n"
      ],
      "metadata": {
        "id": "v0Lj44LzYzcp",
        "outputId": "c4414e6d-1345-41e3-fc6d-672e1f2642e6",
        "colab": {
          "base_uri": "https://localhost:8080/",
          "height": 564
        }
      },
      "execution_count": 19,
      "outputs": [
        {
          "output_type": "display_data",
          "data": {
            "text/plain": [
              "<Figure size 800x600 with 1 Axes>"
            ],
            "image/png": "[encoded data removed]"
          },
          "metadata": {}
        }
      ]
    },
    {
      "cell_type": "markdown",
      "source": [
        "Spróbuj wykorzystać regresje za pomocą K-NN\n",
        "https://scikit-learn.org/stable/auto_examples/neighbors/plot_regression.html#sphx-glr-auto-examples-neighbors-plot-regression-py"
      ],
      "metadata": {
        "id": "jttXjwG69sFw"
      }
    },
    {
      "cell_type": "code",
      "source": [
        "\n",
        "from sklearn.neighbors import KNeighborsRegressor\n",
        "\n",
        "# Podziel dane na zbiór treningowy i testowy\n",
        "X = df.drop('Salary', axis=1)\n",
        "y = df['Salary']\n",
        "X_train, X_test, y_train, y_test = train_test_split(X, y, test_size=0.2, random_state=42)\n",
        "\n",
        "# Skalowanie danych - ważne dla KNN\n",
        "scaler = StandardScaler()\n",
        "X_train = scaler.fit_transform(X_train)\n",
        "X_test = scaler.transform(X_test)\n",
        "\n",
        "# Inicjalizacja i trenowanie modelu KNN\n",
        "knn_model = KNeighborsRegressor(n_neighbors=5)  # Możesz eksperymentować z liczbą sąsiadów\n",
        "knn_model.fit(X_train, y_train)\n",
        "\n",
        "# Predykcja na zbiorze testowym\n",
        "y_pred_knn = knn_model.predict(X_test)\n",
        "\n",
        "# Ocena modelu KNN\n",
        "mse_knn = mean_squared_error(y_test, y_pred_knn)\n",
        "mae_knn = mean_absolute_error(y_test, y_pred_knn)\n",
        "r2_knn = r2_score(y_test, y_pred_knn)\n",
        "\n",
        "print(f\"\\nKNN Model:\")\n",
        "print(f\"Mean Squared Error: {mse_knn}\")\n",
        "print(f\"Mean Absolute Error: {mae_knn}\")\n",
        "print(f\"R-squared: {r2_knn}\")\n"
      ],
      "metadata": {
        "id": "vO2UEHx79pPd",
        "outputId": "80006841-dbb8-43eb-9872-584dd6a42d0b",
        "colab": {
          "base_uri": "https://localhost:8080/"
        }
      },
      "execution_count": 20,
      "outputs": [
        {
          "output_type": "stream",
          "name": "stdout",
          "text": [
            "\n",
            "KNN Model:\n",
            "Mean Squared Error: 273831597.3333333\n",
            "Mean Absolute Error: 10998.133333333333\n",
            "R-squared: 0.8869884123525269\n"
          ]
        }
      ]
    }
  ]
}